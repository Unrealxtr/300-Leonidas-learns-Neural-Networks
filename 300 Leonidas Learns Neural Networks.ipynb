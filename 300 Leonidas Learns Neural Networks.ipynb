{
 "cells": [
  {
   "cell_type": "code",
   "execution_count": 3,
   "metadata": {
    "_cell_guid": "79c7e3d0-c299-4dcb-8224-4455121ee9b0",
    "_uuid": "d629ff2d2480ee46fbb7e2d37f6b5fab8052498a",
    "colab": {},
    "colab_type": "code",
    "id": "gWq6HaoHZd2j"
   },
   "outputs": [],
   "source": [
    "import tensorflow as tf\n",
    "import numpy as np\n",
    "import matplotlib.pyplot as plt"
   ]
  },
  {
   "cell_type": "code",
   "execution_count": 4,
   "metadata": {
    "colab": {},
    "colab_type": "code",
    "id": "EpVIYcpZZd2s"
   },
   "outputs": [],
   "source": [
    "from tensorflow.keras.preprocessing.image import ImageDataGenerator"
   ]
  },
  {
   "cell_type": "code",
   "execution_count": 5,
   "metadata": {},
   "outputs": [],
   "source": [
    "import os"
   ]
  },
  {
   "cell_type": "code",
   "execution_count": 6,
   "metadata": {
    "colab": {},
    "colab_type": "code",
    "id": "9qJRGAaWZd30"
   },
   "outputs": [],
   "source": [
    "train='/Datasets/Soldier/train'\n",
    "#os.mkdir(train)"
   ]
  },
  {
   "cell_type": "code",
   "execution_count": 7,
   "metadata": {
    "colab": {},
    "colab_type": "code",
    "id": "RfS-sk4kZd39"
   },
   "outputs": [],
   "source": [
    "valid = '/Datasets/Soldier/Valid'\n",
    "#os.mkdir(valid)"
   ]
  },
  {
   "cell_type": "code",
   "execution_count": 8,
   "metadata": {
    "colab": {},
    "colab_type": "code",
    "id": "LmzkuUKgZd5c"
   },
   "outputs": [],
   "source": [
    "from sklearn.model_selection import train_test_split"
   ]
  },
  {
   "cell_type": "code",
   "execution_count": 9,
   "metadata": {
    "colab": {},
    "colab_type": "code",
    "id": "HOIYuqsqZd55"
   },
   "outputs": [],
   "source": [
    "from shutil import copyfile"
   ]
  },
  {
   "cell_type": "markdown",
   "metadata": {
    "colab_type": "text",
    "id": "DEnz_714aQRe"
   },
   "source": [
    "# TF Model "
   ]
  },
  {
   "cell_type": "code",
   "execution_count": 12,
   "metadata": {},
   "outputs": [
    {
     "name": "stdout",
     "output_type": "stream",
     "text": [
      "Found 63 images belonging to 2 classes.\n",
      "Found 29 images belonging to 2 classes.\n"
     ]
    }
   ],
   "source": [
    "train_datagen = ImageDataGenerator(\n",
    "    rescale=1 / 255,\n",
    "    rotation_range=40,\n",
    "    width_shift_range=.2,\n",
    "    height_shift_range=.2,\n",
    "    shear_range=.2,\n",
    "    zoom_range=.2,\n",
    "    horizontal_flip=True,\n",
    "    fill_mode='nearest'\n",
    ")\n",
    "train_gen = train_datagen.flow_from_directory(\n",
    "    train,\n",
    "    batch_size=64,\n",
    "    class_mode='binary',\n",
    "    target_size=(300, 300)\n",
    ")\n",
    "\n",
    "valid_datagen = ImageDataGenerator(\n",
    "    rescale=1 / 255,\n",
    "    rotation_range=40,\n",
    "    width_shift_range=.2,\n",
    "    height_shift_range=.2,\n",
    "    shear_range=.2,\n",
    "    zoom_range=.2,\n",
    "    horizontal_flip=True,\n",
    "    fill_mode='nearest'\n",
    "\n",
    ")\n",
    "valid_gen = valid_datagen.flow_from_directory(\n",
    "    valid,\n",
    "    batch_size=64,\n",
    "    class_mode='binary',\n",
    "    target_size=(300, 300)\n",
    ")"
   ]
  },
  {
   "cell_type": "code",
   "execution_count": 13,
   "metadata": {
    "colab": {},
    "colab_type": "code",
    "id": "Bo5jbyogZd7v"
   },
   "outputs": [
    {
     "name": "stdout",
     "output_type": "stream",
     "text": [
      "WARNING:tensorflow:From C:\\Users\\taraf\\anaconda3\\envs\\tensorflow\\lib\\site-packages\\tensorflow\\python\\ops\\init_ops.py:1251: calling VarianceScaling.__init__ (from tensorflow.python.ops.init_ops) with dtype is deprecated and will be removed in a future version.\n",
      "Instructions for updating:\n",
      "Call initializer instance with the dtype argument instead of passing it to the constructor\n"
     ]
    }
   ],
   "source": [
    "# model creation\n",
    "activation='relu'\n",
    "\n",
    "model1 = tf.keras.models.Sequential()\n",
    "model1.add(tf.keras.layers.Conv2D(64,(5,5),activation=activation,input_shape=(300,300,3)))\n",
    "model1.add(tf.keras.layers.MaxPooling2D(2,2))\n",
    "#2nd CNN\n",
    "model1.add(tf.keras.layers.Conv2D(32,(5,5),activation=activation))\n",
    "model1.add(tf.keras.layers.MaxPooling2D(2,2))\n",
    "#3rd CNN\n",
    "model1.add(tf.keras.layers.Conv2D(16,(5,5),activation=activation))\n",
    "model1.add(tf.keras.layers.MaxPooling2D(2,2))\n",
    "#4th CNN\n",
    "model1.add(tf.keras.layers.Conv2D(8,(5,5),activation=activation))\n",
    "model1.add(tf.keras.layers.MaxPooling2D(2,2))\n",
    "\n",
    "model1.add(tf.keras.layers.Flatten())\n",
    "model1.add(tf.keras.layers.BatchNormalization())\n",
    "\n",
    "model1.add(tf.keras.layers.Dense(152,activation=activation))\n",
    "model1.add(tf.keras.layers.BatchNormalization())\n",
    "\n",
    "model1.add(tf.keras.layers.Dense(152,activation=activation))\n",
    "model1.add(tf.keras.layers.BatchNormalization())\n",
    "\n",
    "model1.add(tf.keras.layers.Dense(152,activation=activation))\n",
    "model1.add(tf.keras.layers.BatchNormalization())\n",
    "\n",
    "model1.add(tf.keras.layers.Dense(1,activation='sigmoid'))"
   ]
  },
  {
   "cell_type": "code",
   "execution_count": 14,
   "metadata": {
    "colab": {
     "base_uri": "https://localhost:8080/",
     "height": 758
    },
    "colab_type": "code",
    "id": "5uAO-dZjZd74",
    "outputId": "129ff8a1-d11a-4bbc-8dee-612a5c86f5c3"
   },
   "outputs": [
    {
     "name": "stdout",
     "output_type": "stream",
     "text": [
      "Model: \"sequential\"\n",
      "_________________________________________________________________\n",
      "Layer (type)                 Output Shape              Param #   \n",
      "=================================================================\n",
      "conv2d (Conv2D)              (None, 296, 296, 64)      4864      \n",
      "_________________________________________________________________\n",
      "max_pooling2d (MaxPooling2D) (None, 148, 148, 64)      0         \n",
      "_________________________________________________________________\n",
      "conv2d_1 (Conv2D)            (None, 144, 144, 32)      51232     \n",
      "_________________________________________________________________\n",
      "max_pooling2d_1 (MaxPooling2 (None, 72, 72, 32)        0         \n",
      "_________________________________________________________________\n",
      "conv2d_2 (Conv2D)            (None, 68, 68, 16)        12816     \n",
      "_________________________________________________________________\n",
      "max_pooling2d_2 (MaxPooling2 (None, 34, 34, 16)        0         \n",
      "_________________________________________________________________\n",
      "conv2d_3 (Conv2D)            (None, 30, 30, 8)         3208      \n",
      "_________________________________________________________________\n",
      "max_pooling2d_3 (MaxPooling2 (None, 15, 15, 8)         0         \n",
      "_________________________________________________________________\n",
      "flatten (Flatten)            (None, 1800)              0         \n",
      "_________________________________________________________________\n",
      "batch_normalization (BatchNo (None, 1800)              7200      \n",
      "_________________________________________________________________\n",
      "dense (Dense)                (None, 152)               273752    \n",
      "_________________________________________________________________\n",
      "batch_normalization_1 (Batch (None, 152)               608       \n",
      "_________________________________________________________________\n",
      "dense_1 (Dense)              (None, 152)               23256     \n",
      "_________________________________________________________________\n",
      "batch_normalization_2 (Batch (None, 152)               608       \n",
      "_________________________________________________________________\n",
      "dense_2 (Dense)              (None, 152)               23256     \n",
      "_________________________________________________________________\n",
      "batch_normalization_3 (Batch (None, 152)               608       \n",
      "_________________________________________________________________\n",
      "dense_3 (Dense)              (None, 1)                 153       \n",
      "=================================================================\n",
      "Total params: 401,561\n",
      "Trainable params: 397,049\n",
      "Non-trainable params: 4,512\n",
      "_________________________________________________________________\n"
     ]
    }
   ],
   "source": [
    "model1.summary()"
   ]
  },
  {
   "cell_type": "code",
   "execution_count": 17,
   "metadata": {
    "colab": {},
    "colab_type": "code",
    "id": "45S3ab57Zd8E"
   },
   "outputs": [],
   "source": [
    "optimizer='adam'\n",
    "loss = 'binary_crossentropy'\n",
    "metrics=['accuracy']\n",
    "model1.compile(optimizer=optimizer,loss=loss,metrics=metrics)"
   ]
  },
  {
   "cell_type": "code",
   "execution_count": 18,
   "metadata": {
    "colab": {},
    "colab_type": "code",
    "id": "A0RhAmPLZd8N"
   },
   "outputs": [],
   "source": [
    "class mycallback(tf.keras.callbacks.Callback):\n",
    "    def on_epoch_end(self,epoch,logs={}):\n",
    "        if(logs.get('val_acc') >0.8):\n",
    "            print('Achieved 80% accuracy')\n",
    "            self.model.stop_training=True\n",
    "callback = mycallback()    "
   ]
  },
  {
   "cell_type": "code",
   "execution_count": 19,
   "metadata": {},
   "outputs": [
    {
     "name": "stdout",
     "output_type": "stream",
     "text": [
      "Epoch 1/5\n",
      "10/10 - 289s - loss: 0.6179 - acc: 0.6984 - val_loss: 0.7238 - val_acc: 0.5517\n",
      "Epoch 2/5\n",
      "10/10 - 288s - loss: 0.4718 - acc: 0.7905 - val_loss: 1.2448 - val_acc: 0.5517\n",
      "Epoch 3/5\n",
      "10/10 - 301s - loss: 0.3297 - acc: 0.8635 - val_loss: 1.6601 - val_acc: 0.5517\n",
      "Epoch 4/5\n",
      "10/10 - 292s - loss: 0.2538 - acc: 0.8794 - val_loss: 2.2683 - val_acc: 0.5517\n",
      "Epoch 5/5\n",
      "10/10 - 257s - loss: 0.2487 - acc: 0.8873 - val_loss: 1.4556 - val_acc: 0.6207\n"
     ]
    }
   ],
   "source": [
    "history = model1.fit(train_gen,epochs=5,verbose=2,validation_data=valid_gen,steps_per_epoch=10,callbacks=[callback])"
   ]
  }
 ],
 "metadata": {
  "kernelspec": {
   "display_name": "Python 3",
   "language": "python",
   "name": "python3"
  },
  "language_info": {
   "codemirror_mode": {
    "name": "ipython",
    "version": 3
   },
   "file_extension": ".py",
   "mimetype": "text/x-python",
   "name": "python",
   "nbconvert_exporter": "python",
   "pygments_lexer": "ipython3",
   "version": "3.7.6"
  }
 },
 "nbformat": 4,
 "nbformat_minor": 4
}
